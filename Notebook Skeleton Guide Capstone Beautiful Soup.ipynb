{
 "cells": [
  {
   "cell_type": "markdown",
   "metadata": {},
   "source": [
    "# Capstone project: Webscrapping using beautiful soup\n",
    "\n",
    "In this module you will see my capstone project, which is webscrapping by using beautiful soup. Webscrapping is a methond of getting data from the internet, and processing that data at your will. Specifically in this module we will scrap the exchange price of United States Dollars (USD) to Indonesian Rupiah (IDR).\n",
    "\n",
    "To do the webscrapping we will be using three dependencies, namely BeautifulSoup to get data from the internet, pandas for analyzing the data, and matplotlib to visualize the data to a graph.\n",
    "\n",
    "if you don't already have those dependencies then please install them by copy and pasting these codes below.\n",
    "\n",
    "BeautifulSoup: `pip install beautifulsoup4`<br>\n",
    "Pandas       : `pip install pandas`<br>\n",
    "Matplotlib   : `pip install matplotlib`<br>\n",
    "\n",
    "## Background\n",
    "\n",
    "In this module we are trying to get the exchange amount of one United States Dollars to Indonesian Rupiah by webscrapping `https://www.exchange-rates.org/history/IDR/USD/T`and getting the data that we need, then we are going to focus on two data and that is the date and the exchage value of USD to IDR, then visualizing that data."
   ]
  },
  {
   "cell_type": "markdown",
   "metadata": {},
   "source": [
    "# Getting the data from the html"
   ]
  },
  {
   "cell_type": "code",
   "execution_count": 72,
   "metadata": {
    "ExecuteTime": {
     "end_time": "2020-01-13T05:12:23.275508Z",
     "start_time": "2020-01-13T05:12:20.009898Z"
    }
   },
   "outputs": [],
   "source": [
    "import requests\n",
    "\n",
    "url_get = requests.get('https://www.exchange-rates.org/history/IDR/USD/T')"
   ]
  },
  {
   "cell_type": "markdown",
   "metadata": {},
   "source": [
    "To visualize what exactly you get from the `request.get`, we can use .content so see what we exactly get, in here i slice it so it won't make our screen full of the html we get from the page. You can delete the slicing if you want to see what we fully get."
   ]
  },
  {
   "cell_type": "code",
   "execution_count": 73,
   "metadata": {
    "ExecuteTime": {
     "end_time": "2020-01-13T05:12:23.290648Z",
     "start_time": "2020-01-13T05:12:23.277650Z"
    }
   },
   "outputs": [
    {
     "data": {
      "text/plain": [
       "b'!DOCTYPE html>\\r\\n<!--[if lt IE 9]>\\r\\n<html class=\"no-js ie8 oldie\" lang=\"en\" xml:lang=\\'en\\'>\\r\\n<![endif]-->\\r\\n<!--[if gt IE 8]><!--><html class=\"no-js\" lang=\"en\" xml:lang=\\'en\\'><!--<![endif]-->\\r\\n<head>\\r\\n<title>USD to IDR exchange rate history</title>\\r\\n<meta http-equiv=\"X-UA-Compatible\" content=\"IE=edge\">\\r\\n<meta name=\"viewport\" content=\"width=device-width, initial-scale=1, maximum-scale=5\">\\r\\n<meta charset=\"utf-8\" /><meta http-equiv=\"Content-Type\" content=\"text/html; charset=utf-8\" />\\r\\n<base href=\"http'"
      ]
     },
     "execution_count": 73,
     "metadata": {},
     "output_type": "execute_result"
    }
   ],
   "source": [
    "url_get.content[1:500]"
   ]
  },
  {
   "cell_type": "markdown",
   "metadata": {},
   "source": [
    "As we can see we get a very unstructured and complex html, which actually contains the codes needed to show the webpages on your web browser. But we as human still confused what and where we can use that piece of code, so here where we use the beautifulsoup. Beautiful soup class will result a beautifulsoup object. Beautiful Soup transforms a complex HTML document into a complex tree of Python objects. \n",
    "\n",
    "Let's make Beautiful soup object and feel free to explore the object here."
   ]
  },
  {
   "cell_type": "code",
   "execution_count": 74,
   "metadata": {
    "ExecuteTime": {
     "end_time": "2020-01-13T05:12:23.808122Z",
     "start_time": "2020-01-13T05:12:23.292610Z"
    }
   },
   "outputs": [],
   "source": [
    "from bs4 import BeautifulSoup \n",
    "\n",
    "soup = BeautifulSoup(url_get.content,\"html.parser\")"
   ]
  },
  {
   "cell_type": "markdown",
   "metadata": {},
   "source": [
    "## Finding the right key to scrap the data & Extracting the right information"
   ]
  },
  {
   "cell_type": "markdown",
   "metadata": {},
   "source": [
    "Since we are trying to get the date and the exchage rate we need a common table or a placeholder that nests those two data that we are trying to get, and luckily from the html there is a table that holds both of those information, thus we are using `soup.find` to find that table and visualize it here, then to know how much data we are receiving we are going to find the row length of said table."
   ]
  },
  {
   "cell_type": "code",
   "execution_count": 75,
   "metadata": {
    "ExecuteTime": {
     "end_time": "2020-01-13T05:12:23.878904Z",
     "start_time": "2020-01-13T05:12:23.854974Z"
    }
   },
   "outputs": [
    {
     "name": "stdout",
     "output_type": "stream",
     "text": [
      "section class=\"box history-rates-table-box\">\n",
      " <h2 class=\"title\">\n",
      "  <span>\n",
      "   USD to IDR History for Last 6 Months\n",
      "  </span>\n",
      " </h2>\n",
      " <div class=\"inner\">\n",
      "  <table border=\"0\" cellpadding=\"0\" cellspacing=\"0\" class=\"history-rates-data\">\n",
      "   <thead>\n",
      "    <tr>\n",
      "     <th class=\"ltr-bidi-fix\">\n",
      "      Date\n",
      "     </th>\n",
      "     <th class=\"ltr-bidi-fix\">\n",
      "      US Dollar to Indonesian Rupiah\n",
      "     </th>\n",
      "    </tr>\n",
      "   </thead>\n",
      "   <tbody>\n",
      "    <tr>\n",
      "     <td>\n",
      "      <a class=\"w\" href=\"/exchange-rate-history/usd-idr-2023-04\n"
     ]
    }
   ],
   "source": [
    "table = soup.find ('section', attrs={'class':'box history-rates-table-box'})\n",
    "print(table.prettify()[1:500])"
   ]
  },
  {
   "cell_type": "markdown",
   "metadata": {},
   "source": [
    "Finding row length."
   ]
  },
  {
   "cell_type": "code",
   "execution_count": 76,
   "metadata": {},
   "outputs": [
    {
     "data": {
      "text/plain": [
       "129"
      ]
     },
     "execution_count": 76,
     "metadata": {},
     "output_type": "execute_result"
    }
   ],
   "source": [
    "row = table.find_all('a', attrs={'class':'n'})\n",
    "row_length = len(row)\n",
    "row_length"
   ]
  },
  {
   "cell_type": "markdown",
   "metadata": {},
   "source": [
    "After getting the table and the row length of the table, now we are scrapping the data that we want, since we are trying to find the date and exchange value in the table that we are scrapping, thus we need to identify what is date and what is exchage value in the, to do that we are going to use `.find_all` and plug in their respective html tags and their class."
   ]
  },
  {
   "cell_type": "code",
   "execution_count": 77,
   "metadata": {
    "ExecuteTime": {
     "end_time": "2020-01-13T05:12:24.008256Z",
     "start_time": "2020-01-13T05:12:23.980358Z"
    },
    "scrolled": false
   },
   "outputs": [
    {
     "data": {
      "text/plain": [
       "[('2023-4-11', '$1 = Rp14,915'),\n",
       " ('2023-4-10', '$1 = Rp14,950'),\n",
       " ('2023-4-7', '$1 = Rp14,941'),\n",
       " ('2023-4-6', '$1 = Rp14,931'),\n",
       " ('2023-4-5', '$1 = Rp14,960'),\n",
       " ('2023-4-4', '$1 = Rp14,957'),\n",
       " ('2023-4-3', '$1 = Rp14,922'),\n",
       " ('2023-3-31', '$1 = Rp14,969'),\n",
       " ('2023-3-30', '$1 = Rp15,024'),\n",
       " ('2023-3-29', '$1 = Rp15,034'),\n",
       " ('2023-3-28', '$1 = Rp15,060'),\n",
       " ('2023-3-27', '$1 = Rp15,107'),\n",
       " ('2023-3-24', '$1 = Rp15,165'),\n",
       " ('2023-3-23', '$1 = Rp15,085'),\n",
       " ('2023-3-22', '$1 = Rp15,253'),\n",
       " ('2023-3-21', '$1 = Rp15,301'),\n",
       " ('2023-3-20', '$1 = Rp15,343'),\n",
       " ('2023-3-17', '$1 = Rp15,375'),\n",
       " ('2023-3-16', '$1 = Rp15,429'),\n",
       " ('2023-3-15', '$1 = Rp15,459'),\n",
       " ('2023-3-14', '$1 = Rp15,380'),\n",
       " ('2023-3-13', '$1 = Rp15,416'),\n",
       " ('2023-3-10', '$1 = Rp15,503'),\n",
       " ('2023-3-9', '$1 = Rp15,495'),\n",
       " ('2023-3-8', '$1 = Rp15,449'),\n",
       " ('2023-3-7', '$1 = Rp15,429'),\n",
       " ('2023-3-6', '$1 = Rp15,354'),\n",
       " ('2023-3-3', '$1 = Rp15,278'),\n",
       " ('2023-3-2', '$1 = Rp15,322'),\n",
       " ('2023-3-1', '$1 = Rp15,249'),\n",
       " ('2023-2-28', '$1 = Rp15,241'),\n",
       " ('2023-2-27', '$1 = Rp15,216'),\n",
       " ('2023-2-24', '$1 = Rp15,265'),\n",
       " ('2023-2-23', '$1 = Rp15,211'),\n",
       " ('2023-2-22', '$1 = Rp15,197'),\n",
       " ('2023-2-21', '$1 = Rp15,235'),\n",
       " ('2023-2-20', '$1 = Rp15,168'),\n",
       " ('2023-2-17', '$1 = Rp15,166'),\n",
       " ('2023-2-16', '$1 = Rp15,144'),\n",
       " ('2023-2-15', '$1 = Rp15,205'),\n",
       " ('2023-2-14', '$1 = Rp15,186'),\n",
       " ('2023-2-13', '$1 = Rp15,216'),\n",
       " ('2023-2-10', '$1 = Rp15,188'),\n",
       " ('2023-2-9', '$1 = Rp15,147'),\n",
       " ('2023-2-8', '$1 = Rp15,133'),\n",
       " ('2023-2-7', '$1 = Rp15,154'),\n",
       " ('2023-2-6', '$1 = Rp15,198'),\n",
       " ('2023-2-3', '$1 = Rp15,095'),\n",
       " ('2023-2-2', '$1 = Rp14,907'),\n",
       " ('2023-2-1', '$1 = Rp14,896'),\n",
       " ('2023-1-31', '$1 = Rp15,002'),\n",
       " ('2023-1-30', '$1 = Rp15,013'),\n",
       " ('2023-1-27', '$1 = Rp14,973'),\n",
       " ('2023-1-26', '$1 = Rp14,955'),\n",
       " ('2023-1-25', '$1 = Rp14,940'),\n",
       " ('2023-1-24', '$1 = Rp14,956'),\n",
       " ('2023-1-23', '$1 = Rp15,026'),\n",
       " ('2023-1-20', '$1 = Rp15,063'),\n",
       " ('2023-1-19', '$1 = Rp15,154'),\n",
       " ('2023-1-18', '$1 = Rp15,138'),\n",
       " ('2023-1-17', '$1 = Rp15,180'),\n",
       " ('2023-1-16', '$1 = Rp15,126'),\n",
       " ('2023-1-13', '$1 = Rp15,115'),\n",
       " ('2023-1-12', '$1 = Rp15,206'),\n",
       " ('2023-1-11', '$1 = Rp15,432'),\n",
       " ('2023-1-10', '$1 = Rp15,536'),\n",
       " ('2023-1-9', '$1 = Rp15,596'),\n",
       " ('2023-1-6', '$1 = Rp15,607'),\n",
       " ('2023-1-5', '$1 = Rp15,635'),\n",
       " ('2023-1-4', '$1 = Rp15,582'),\n",
       " ('2023-1-3', '$1 = Rp15,594'),\n",
       " ('2023-1-2', '$1 = Rp15,554'),\n",
       " ('2022-12-30', '$1 = Rp15,534'),\n",
       " ('2022-12-29', '$1 = Rp15,627'),\n",
       " ('2022-12-28', '$1 = Rp15,789'),\n",
       " ('2022-12-27', '$1 = Rp15,620'),\n",
       " ('2022-12-26', '$1 = Rp15,621'),\n",
       " ('2022-12-23', '$1 = Rp15,582'),\n",
       " ('2022-12-22', '$1 = Rp15,574'),\n",
       " ('2022-12-21', '$1 = Rp15,540'),\n",
       " ('2022-12-20', '$1 = Rp15,564'),\n",
       " ('2022-12-19', '$1 = Rp15,568'),\n",
       " ('2022-12-16', '$1 = Rp15,616'),\n",
       " ('2022-12-15', '$1 = Rp15,629'),\n",
       " ('2022-12-14', '$1 = Rp15,543'),\n",
       " ('2022-12-13', '$1 = Rp15,560'),\n",
       " ('2022-12-12', '$1 = Rp15,676'),\n",
       " ('2022-12-9', '$1 = Rp15,604'),\n",
       " ('2022-12-8', '$1 = Rp15,594'),\n",
       " ('2022-12-7', '$1 = Rp15,612'),\n",
       " ('2022-12-6', '$1 = Rp15,625'),\n",
       " ('2022-12-5', '$1 = Rp15,520'),\n",
       " ('2022-12-2', '$1 = Rp15,376'),\n",
       " ('2022-12-1', '$1 = Rp15,389'),\n",
       " ('2022-11-30', '$1 = Rp15,633'),\n",
       " ('2022-11-29', '$1 = Rp15,734'),\n",
       " ('2022-11-28', '$1 = Rp15,743'),\n",
       " ('2022-11-25', '$1 = Rp15,693'),\n",
       " ('2022-11-24', '$1 = Rp15,647'),\n",
       " ('2022-11-23', '$1 = Rp15,626'),\n",
       " ('2022-11-22', '$1 = Rp15,664'),\n",
       " ('2022-11-21', '$1 = Rp15,741'),\n",
       " ('2022-11-18', '$1 = Rp15,641'),\n",
       " ('2022-11-17', '$1 = Rp15,714'),\n",
       " ('2022-11-16', '$1 = Rp15,639'),\n",
       " ('2022-11-15', '$1 = Rp15,557'),\n",
       " ('2022-11-14', '$1 = Rp15,554'),\n",
       " ('2022-11-11', '$1 = Rp15,474'),\n",
       " ('2022-11-10', '$1 = Rp15,520'),\n",
       " ('2022-11-9', '$1 = Rp15,692'),\n",
       " ('2022-11-8', '$1 = Rp15,638'),\n",
       " ('2022-11-7', '$1 = Rp15,685'),\n",
       " ('2022-11-4', '$1 = Rp15,615'),\n",
       " ('2022-11-3', '$1 = Rp15,790'),\n",
       " ('2022-11-2', '$1 = Rp15,685'),\n",
       " ('2022-11-1', '$1 = Rp15,674'),\n",
       " ('2022-10-31', '$1 = Rp15,624'),\n",
       " ('2022-10-28', '$1 = Rp15,557'),\n",
       " ('2022-10-27', '$1 = Rp15,560'),\n",
       " ('2022-10-26', '$1 = Rp15,503'),\n",
       " ('2022-10-25', '$1 = Rp15,533'),\n",
       " ('2022-10-24', '$1 = Rp15,598'),\n",
       " ('2022-10-21', '$1 = Rp15,537'),\n",
       " ('2022-10-20', '$1 = Rp15,562'),\n",
       " ('2022-10-19', '$1 = Rp15,587'),\n",
       " ('2022-10-18', '$1 = Rp15,474'),\n",
       " ('2022-10-17', '$1 = Rp15,441'),\n",
       " ('2022-10-14', '$1 = Rp15,472')]"
      ]
     },
     "execution_count": 77,
     "metadata": {},
     "output_type": "execute_result"
    }
   ],
   "source": [
    "temp = [] #initiating a tuple\n",
    "\n",
    "for i in range(1, row_length):\n",
    "\n",
    "    date = table.find_all('a', attrs={'class':'n'})[i].text\n",
    "    \n",
    "    USD_to_IDR = table.find_all('span', attrs={'class':'n'})[i].text\n",
    "    \n",
    "    temp.append((date,USD_to_IDR))\n",
    "    \n",
    "temp "
   ]
  },
  {
   "cell_type": "markdown",
   "metadata": {},
   "source": [
    "## Creating data frame & Data wrangling"
   ]
  },
  {
   "cell_type": "markdown",
   "metadata": {},
   "source": [
    "Now we are creating a data frame from what we have received."
   ]
  },
  {
   "cell_type": "code",
   "execution_count": 78,
   "metadata": {
    "ExecuteTime": {
     "end_time": "2020-01-13T05:12:41.517372Z",
     "start_time": "2020-01-13T05:12:29.130015Z"
    }
   },
   "outputs": [
    {
     "data": {
      "text/html": [
       "<div>\n",
       "<style scoped>\n",
       "    .dataframe tbody tr th:only-of-type {\n",
       "        vertical-align: middle;\n",
       "    }\n",
       "\n",
       "    .dataframe tbody tr th {\n",
       "        vertical-align: top;\n",
       "    }\n",
       "\n",
       "    .dataframe thead th {\n",
       "        text-align: right;\n",
       "    }\n",
       "</style>\n",
       "<table border=\"1\" class=\"dataframe\">\n",
       "  <thead>\n",
       "    <tr style=\"text-align: right;\">\n",
       "      <th></th>\n",
       "      <th>date</th>\n",
       "      <th>USD_to_IDR</th>\n",
       "    </tr>\n",
       "  </thead>\n",
       "  <tbody>\n",
       "    <tr>\n",
       "      <th>0</th>\n",
       "      <td>2023-4-11</td>\n",
       "      <td>$1 = Rp14,915</td>\n",
       "    </tr>\n",
       "    <tr>\n",
       "      <th>1</th>\n",
       "      <td>2023-4-10</td>\n",
       "      <td>$1 = Rp14,950</td>\n",
       "    </tr>\n",
       "    <tr>\n",
       "      <th>2</th>\n",
       "      <td>2023-4-7</td>\n",
       "      <td>$1 = Rp14,941</td>\n",
       "    </tr>\n",
       "    <tr>\n",
       "      <th>3</th>\n",
       "      <td>2023-4-6</td>\n",
       "      <td>$1 = Rp14,931</td>\n",
       "    </tr>\n",
       "    <tr>\n",
       "      <th>4</th>\n",
       "      <td>2023-4-5</td>\n",
       "      <td>$1 = Rp14,960</td>\n",
       "    </tr>\n",
       "  </tbody>\n",
       "</table>\n",
       "</div>"
      ],
      "text/plain": [
       "        date     USD_to_IDR\n",
       "0  2023-4-11  $1 = Rp14,915\n",
       "1  2023-4-10  $1 = Rp14,950\n",
       "2   2023-4-7  $1 = Rp14,941\n",
       "3   2023-4-6  $1 = Rp14,931\n",
       "4   2023-4-5  $1 = Rp14,960"
      ]
     },
     "execution_count": 78,
     "metadata": {},
     "output_type": "execute_result"
    }
   ],
   "source": [
    "import pandas as pd\n",
    "\n",
    "df = pd.DataFrame(temp, columns=('date', 'USD_to_IDR'))\n",
    "df.head()"
   ]
  },
  {
   "cell_type": "markdown",
   "metadata": {},
   "source": [
    "We can see that the date and the USD_to_IDR is there, but we need to check its data types and replace the data type of date to `datetime64[ns]`, and the USD_to_IDR data type to `float64`, while changing the data type of date is no problem, we can see that to change the USD_to_IDR, we would have to remove a lot of characters, and for that we are going to use `.str.replace` to replace or remove characters, and then change USD_to_IDR to data type `float64`."
   ]
  },
  {
   "cell_type": "code",
   "execution_count": 79,
   "metadata": {
    "ExecuteTime": {
     "end_time": "2020-01-13T05:12:59.165559Z",
     "start_time": "2020-01-13T05:12:58.910012Z"
    }
   },
   "outputs": [
    {
     "data": {
      "text/plain": [
       "date          object\n",
       "USD_to_IDR    object\n",
       "dtype: object"
      ]
     },
     "execution_count": 79,
     "metadata": {},
     "output_type": "execute_result"
    }
   ],
   "source": [
    "df.dtypes"
   ]
  },
  {
   "cell_type": "code",
   "execution_count": 80,
   "metadata": {},
   "outputs": [],
   "source": [
    "df['date']=df['date'].str.replace('-','/')\n",
    "df['date']=df['date'].astype('datetime64[ns]')\n",
    "df['USD_to_IDR']=df['USD_to_IDR'].str.replace('$', '',regex=False)\n",
    "df['USD_to_IDR']=df['USD_to_IDR'].str.replace('=', '')\n",
    "df['USD_to_IDR']=df['USD_to_IDR'].str.replace('Rp', '')\n",
    "df['USD_to_IDR']=df['USD_to_IDR'].str.replace(',', '.')\n",
    "df['USD_to_IDR']=df['USD_to_IDR'].str.replace(' ', '')\n",
    "df['USD_to_IDR']=df['USD_to_IDR'].str[1:]\n",
    "df['USD_to_IDR']=df['USD_to_IDR'].astype('float64')"
   ]
  },
  {
   "cell_type": "code",
   "execution_count": 81,
   "metadata": {},
   "outputs": [
    {
     "data": {
      "text/html": [
       "<div>\n",
       "<style scoped>\n",
       "    .dataframe tbody tr th:only-of-type {\n",
       "        vertical-align: middle;\n",
       "    }\n",
       "\n",
       "    .dataframe tbody tr th {\n",
       "        vertical-align: top;\n",
       "    }\n",
       "\n",
       "    .dataframe thead th {\n",
       "        text-align: right;\n",
       "    }\n",
       "</style>\n",
       "<table border=\"1\" class=\"dataframe\">\n",
       "  <thead>\n",
       "    <tr style=\"text-align: right;\">\n",
       "      <th></th>\n",
       "      <th>date</th>\n",
       "      <th>USD_to_IDR</th>\n",
       "    </tr>\n",
       "  </thead>\n",
       "  <tbody>\n",
       "    <tr>\n",
       "      <th>0</th>\n",
       "      <td>2023-04-11</td>\n",
       "      <td>14.915</td>\n",
       "    </tr>\n",
       "    <tr>\n",
       "      <th>1</th>\n",
       "      <td>2023-04-10</td>\n",
       "      <td>14.950</td>\n",
       "    </tr>\n",
       "    <tr>\n",
       "      <th>2</th>\n",
       "      <td>2023-04-07</td>\n",
       "      <td>14.941</td>\n",
       "    </tr>\n",
       "    <tr>\n",
       "      <th>3</th>\n",
       "      <td>2023-04-06</td>\n",
       "      <td>14.931</td>\n",
       "    </tr>\n",
       "    <tr>\n",
       "      <th>4</th>\n",
       "      <td>2023-04-05</td>\n",
       "      <td>14.960</td>\n",
       "    </tr>\n",
       "    <tr>\n",
       "      <th>...</th>\n",
       "      <td>...</td>\n",
       "      <td>...</td>\n",
       "    </tr>\n",
       "    <tr>\n",
       "      <th>123</th>\n",
       "      <td>2022-10-20</td>\n",
       "      <td>15.562</td>\n",
       "    </tr>\n",
       "    <tr>\n",
       "      <th>124</th>\n",
       "      <td>2022-10-19</td>\n",
       "      <td>15.587</td>\n",
       "    </tr>\n",
       "    <tr>\n",
       "      <th>125</th>\n",
       "      <td>2022-10-18</td>\n",
       "      <td>15.474</td>\n",
       "    </tr>\n",
       "    <tr>\n",
       "      <th>126</th>\n",
       "      <td>2022-10-17</td>\n",
       "      <td>15.441</td>\n",
       "    </tr>\n",
       "    <tr>\n",
       "      <th>127</th>\n",
       "      <td>2022-10-14</td>\n",
       "      <td>15.472</td>\n",
       "    </tr>\n",
       "  </tbody>\n",
       "</table>\n",
       "<p>128 rows × 2 columns</p>\n",
       "</div>"
      ],
      "text/plain": [
       "          date  USD_to_IDR\n",
       "0   2023-04-11      14.915\n",
       "1   2023-04-10      14.950\n",
       "2   2023-04-07      14.941\n",
       "3   2023-04-06      14.931\n",
       "4   2023-04-05      14.960\n",
       "..         ...         ...\n",
       "123 2022-10-20      15.562\n",
       "124 2022-10-19      15.587\n",
       "125 2022-10-18      15.474\n",
       "126 2022-10-17      15.441\n",
       "127 2022-10-14      15.472\n",
       "\n",
       "[128 rows x 2 columns]"
      ]
     },
     "execution_count": 81,
     "metadata": {},
     "output_type": "execute_result"
    }
   ],
   "source": [
    "df"
   ]
  },
  {
   "cell_type": "code",
   "execution_count": 82,
   "metadata": {},
   "outputs": [
    {
     "data": {
      "text/plain": [
       "date          datetime64[ns]\n",
       "USD_to_IDR           float64\n",
       "dtype: object"
      ]
     },
     "execution_count": 82,
     "metadata": {},
     "output_type": "execute_result"
    }
   ],
   "source": [
    "df.dtypes"
   ]
  },
  {
   "cell_type": "markdown",
   "metadata": {},
   "source": [
    "Now we can see that the USD_to_IDR is a `float64` data type and we can use that to make the data visualization using the help of matplotlib by setting the index of the data frame to date and using the `.plot()` to create and visualize the graph."
   ]
  },
  {
   "cell_type": "code",
   "execution_count": 83,
   "metadata": {},
   "outputs": [],
   "source": [
    "df = df.set_index('date')"
   ]
  },
  {
   "cell_type": "code",
   "execution_count": 84,
   "metadata": {},
   "outputs": [
    {
     "data": {
      "text/plain": [
       "<AxesSubplot:xlabel='date'>"
      ]
     },
     "execution_count": 84,
     "metadata": {},
     "output_type": "execute_result"
    },
    {
     "data": {
      "image/png": "[encoded data removed]",
      "text/plain": [
       "<Figure size 640x480 with 1 Axes>"
      ]
     },
     "metadata": {},
     "output_type": "display_data"
    }
   ],
   "source": [
    "df.plot()"
   ]
  },
  {
   "cell_type": "markdown",
   "metadata": {},
   "source": [
    "## Analysis and Conclusion"
   ]
  },
  {
   "cell_type": "markdown",
   "metadata": {},
   "source": [
    "We can see the exchange rate of USD to IDR and see that from 2022-11 to 2023-01 the exchange rate of USD to IDR is quite stable despite there being ups and downs, but an outlier of the outmost is 2023-02, when all of a sudden the price USD to IDR falls quite a bit, then it rises again up until the middle of 2023-03, thats when all of a sudden it drops again.\n",
    "\n",
    "In conclusion by using webscrapping we were able to get data from websites and use it here on this module/notebook, and using said data we were able to create a graph of said data. By using webscrapping we can also get data that we spesifically need and ignore the rest."
   ]
  }
 ],
 "metadata": {
  "kernelspec": {
   "display_name": "vulcan_da",
   "language": "python",
   "name": "vulcan_da"
  },
  "language_info": {
   "codemirror_mode": {
    "name": "ipython",
    "version": 3
   },
   "file_extension": ".py",
   "mimetype": "text/x-python",
   "name": "python",
   "nbconvert_exporter": "python",
   "pygments_lexer": "ipython3",
   "version": "3.10.9"
  }
 },
 "nbformat": 4,
 "nbformat_minor": 2
}
